{
 "cells": [
  {
   "cell_type": "markdown",
   "metadata": {},
   "source": [
    "# Imports"
   ]
  },
  {
   "cell_type": "code",
   "execution_count": 1,
   "metadata": {},
   "outputs": [
    {
     "name": "stderr",
     "output_type": "stream",
     "text": [
      "Using TensorFlow backend.\n"
     ]
    }
   ],
   "source": [
    "import os\n",
    "import pandas as pd\n",
    "import numpy as np\n",
    "import cv2\n",
    "import matplotlib.pyplot as plt\n",
    "from keras.models import Sequential\n",
    "from keras.utils import to_categorical\n",
    "from sklearn.model_selection import train_test_split\n",
    "from sklearn.metrics import accuracy_score, classification_report\n",
    "from keras.layers import Dense, Dropout, Flatten, Conv2D, MaxPooling2D"
   ]
  },
  {
   "cell_type": "markdown",
   "metadata": {},
   "source": [
    "# Preprocessing data"
   ]
  },
  {
   "cell_type": "code",
   "execution_count": 2,
   "metadata": {},
   "outputs": [],
   "source": [
    "images = []"
   ]
  },
  {
   "cell_type": "code",
   "execution_count": 3,
   "metadata": {},
   "outputs": [],
   "source": [
    "os.chdir('cell_images/')"
   ]
  },
  {
   "cell_type": "code",
   "execution_count": 4,
   "metadata": {},
   "outputs": [],
   "source": [
    "for i in os.listdir('Uninfected/'):\n",
    "    img = cv2.imread(os.path.join('Uninfected/',i),cv2.IMREAD_GRAYSCALE)\n",
    "    if np.shape(img)!=():\n",
    "        resized = cv2.resize(img,(48,48),interpolation=cv2.INTER_AREA)\n",
    "        blur = cv2.bilateralFilter(resized,5,25,25)\n",
    "        images.append(blur)\n",
    "for i in os.listdir('Parasitized/'):\n",
    "    img = cv2.imread(os.path.join('Parasitized/',i),cv2.IMREAD_GRAYSCALE)\n",
    "    if np.shape(img)!=():\n",
    "        resized = cv2.resize(img,(48,48),interpolation=cv2.INTER_AREA)\n",
    "        blur = cv2.bilateralFilter(resized,5,25,25)\n",
    "        images.append(blur)"
   ]
  },
  {
   "cell_type": "code",
   "execution_count": 5,
   "metadata": {},
   "outputs": [
    {
     "data": {
      "text/plain": [
       "<matplotlib.image.AxesImage at 0x294b99be388>"
      ]
     },
     "execution_count": 5,
     "metadata": {},
     "output_type": "execute_result"
    },
    {
     "data": {
      "image/png": "[encoded data removed]",
      "text/plain": [
       "<Figure size 432x288 with 1 Axes>"
      ]
     },
     "metadata": {
      "needs_background": "light"
     },
     "output_type": "display_data"
    }
   ],
   "source": [
    "plt.imshow(images[0],cmap='gray')"
   ]
  },
  {
   "cell_type": "code",
   "execution_count": 6,
   "metadata": {},
   "outputs": [
    {
     "data": {
      "text/plain": [
       "<matplotlib.image.AxesImage at 0x294bcc57948>"
      ]
     },
     "execution_count": 6,
     "metadata": {},
     "output_type": "execute_result"
    },
    {
     "data": {
      "image/png": "[encoded data removed]",
      "text/plain": [
       "<Figure size 432x288 with 1 Axes>"
      ]
     },
     "metadata": {
      "needs_background": "light"
     },
     "output_type": "display_data"
    }
   ],
   "source": [
    "plt.imshow(images[13780],cmap='gray')"
   ]
  },
  {
   "cell_type": "code",
   "execution_count": 7,
   "metadata": {},
   "outputs": [],
   "source": [
    "pos = np.ones(13779)\n",
    "neg = np.zeros(13779)"
   ]
  },
  {
   "cell_type": "code",
   "execution_count": 8,
   "metadata": {},
   "outputs": [],
   "source": [
    "labels = np.concatenate((pos,neg))"
   ]
  },
  {
   "cell_type": "code",
   "execution_count": 9,
   "metadata": {},
   "outputs": [],
   "source": [
    "images = np.array(images,dtype='uint8')"
   ]
  },
  {
   "cell_type": "code",
   "execution_count": 10,
   "metadata": {},
   "outputs": [
    {
     "data": {
      "text/plain": [
       "(27558, 48, 48)"
      ]
     },
     "execution_count": 10,
     "metadata": {},
     "output_type": "execute_result"
    }
   ],
   "source": [
    "images.shape"
   ]
  },
  {
   "cell_type": "code",
   "execution_count": 11,
   "metadata": {},
   "outputs": [
    {
     "data": {
      "text/plain": [
       "(27558,)"
      ]
     },
     "execution_count": 11,
     "metadata": {},
     "output_type": "execute_result"
    }
   ],
   "source": [
    "labels.shape"
   ]
  },
  {
   "cell_type": "code",
   "execution_count": 12,
   "metadata": {},
   "outputs": [],
   "source": [
    "labels = labels.reshape(27558,1)"
   ]
  },
  {
   "cell_type": "code",
   "execution_count": 13,
   "metadata": {},
   "outputs": [],
   "source": [
    "X_train, X_test, y_train, y_test = train_test_split(images, labels, test_size=0.33, random_state=42)"
   ]
  },
  {
   "cell_type": "code",
   "execution_count": 14,
   "metadata": {},
   "outputs": [
    {
     "data": {
      "text/plain": [
       "(9095, 48, 48)"
      ]
     },
     "execution_count": 14,
     "metadata": {},
     "output_type": "execute_result"
    }
   ],
   "source": [
    "X_test.shape"
   ]
  },
  {
   "cell_type": "code",
   "execution_count": 15,
   "metadata": {},
   "outputs": [
    {
     "data": {
      "text/plain": [
       "(18463, 48, 48)"
      ]
     },
     "execution_count": 15,
     "metadata": {},
     "output_type": "execute_result"
    }
   ],
   "source": [
    "X_train.shape"
   ]
  },
  {
   "cell_type": "code",
   "execution_count": 16,
   "metadata": {},
   "outputs": [],
   "source": [
    "X_test = X_test.reshape(9095,48,48,1)\n",
    "X_train = X_train.reshape(18463,48,48,1)\n",
    "X_train = X_train/255\n",
    "X_test = X_test/255\n",
    "y_train = to_categorical(y_train)\n",
    "y_test = to_categorical(y_test)"
   ]
  },
  {
   "cell_type": "code",
   "execution_count": 17,
   "metadata": {},
   "outputs": [
    {
     "name": "stderr",
     "output_type": "stream",
     "text": [
      "WARNING: Logging before flag parsing goes to stderr.\n",
      "W1021 20:55:25.530187 12480 deprecation_wrapper.py:119] From C:\\Users\\gaurav\\Anaconda3\\envs\\ML-gpu\\lib\\site-packages\\keras\\backend\\tensorflow_backend.py:74: The name tf.get_default_graph is deprecated. Please use tf.compat.v1.get_default_graph instead.\n",
      "\n",
      "W1021 20:55:25.545151 12480 deprecation_wrapper.py:119] From C:\\Users\\gaurav\\Anaconda3\\envs\\ML-gpu\\lib\\site-packages\\keras\\backend\\tensorflow_backend.py:517: The name tf.placeholder is deprecated. Please use tf.compat.v1.placeholder instead.\n",
      "\n",
      "W1021 20:55:25.548106 12480 deprecation_wrapper.py:119] From C:\\Users\\gaurav\\Anaconda3\\envs\\ML-gpu\\lib\\site-packages\\keras\\backend\\tensorflow_backend.py:4138: The name tf.random_uniform is deprecated. Please use tf.random.uniform instead.\n",
      "\n",
      "W1021 20:55:25.579541 12480 deprecation_wrapper.py:119] From C:\\Users\\gaurav\\Anaconda3\\envs\\ML-gpu\\lib\\site-packages\\keras\\backend\\tensorflow_backend.py:3976: The name tf.nn.max_pool is deprecated. Please use tf.nn.max_pool2d instead.\n",
      "\n",
      "W1021 20:55:25.608464 12480 deprecation_wrapper.py:119] From C:\\Users\\gaurav\\Anaconda3\\envs\\ML-gpu\\lib\\site-packages\\keras\\backend\\tensorflow_backend.py:133: The name tf.placeholder_with_default is deprecated. Please use tf.compat.v1.placeholder_with_default instead.\n",
      "\n",
      "W1021 20:55:25.614448 12480 deprecation.py:506] From C:\\Users\\gaurav\\Anaconda3\\envs\\ML-gpu\\lib\\site-packages\\keras\\backend\\tensorflow_backend.py:3445: calling dropout (from tensorflow.python.ops.nn_ops) with keep_prob is deprecated and will be removed in a future version.\n",
      "Instructions for updating:\n",
      "Please use `rate` instead of `keep_prob`. Rate should be set to `rate = 1 - keep_prob`.\n"
     ]
    }
   ],
   "source": [
    "model = Sequential()\n",
    "model.add(Conv2D(32, kernel_size=(3, 3), activation='relu', input_shape=(48,48,1)))\n",
    "model.add(Conv2D(64, (3, 3), activation='relu'))\n",
    "model.add(MaxPooling2D(pool_size=(2, 2)))\n",
    "#model.add(BatchNormalization())\n",
    "model.add(Conv2D(64, (3, 3), activation='relu'))\n",
    "model.add(Conv2D(64, (3, 3), activation='relu'))\n",
    "model.add(MaxPooling2D(pool_size=(2,2)))\n",
    "#model.add(BatchNormalization())\n",
    "model.add(Dropout(0.2))\n",
    "model.add(Flatten())\n",
    "model.add(Dense(128, activation='relu'))\n",
    "model.add(Dense(64, activation='relu'))\n",
    "model.add(Dense(2, activation='softmax'))"
   ]
  },
  {
   "cell_type": "code",
   "execution_count": 18,
   "metadata": {},
   "outputs": [
    {
     "name": "stdout",
     "output_type": "stream",
     "text": [
      "_________________________________________________________________\n",
      "Layer (type)                 Output Shape              Param #   \n",
      "=================================================================\n",
      "conv2d_1 (Conv2D)            (None, 46, 46, 32)        320       \n",
      "_________________________________________________________________\n",
      "conv2d_2 (Conv2D)            (None, 44, 44, 64)        18496     \n",
      "_________________________________________________________________\n",
      "max_pooling2d_1 (MaxPooling2 (None, 22, 22, 64)        0         \n",
      "_________________________________________________________________\n",
      "conv2d_3 (Conv2D)            (None, 20, 20, 64)        36928     \n",
      "_________________________________________________________________\n",
      "conv2d_4 (Conv2D)            (None, 18, 18, 64)        36928     \n",
      "_________________________________________________________________\n",
      "max_pooling2d_2 (MaxPooling2 (None, 9, 9, 64)          0         \n",
      "_________________________________________________________________\n",
      "dropout_1 (Dropout)          (None, 9, 9, 64)          0         \n",
      "_________________________________________________________________\n",
      "flatten_1 (Flatten)          (None, 5184)              0         \n",
      "_________________________________________________________________\n",
      "dense_1 (Dense)              (None, 128)               663680    \n",
      "_________________________________________________________________\n",
      "dense_2 (Dense)              (None, 64)                8256      \n",
      "_________________________________________________________________\n",
      "dense_3 (Dense)              (None, 2)                 130       \n",
      "=================================================================\n",
      "Total params: 764,738\n",
      "Trainable params: 764,738\n",
      "Non-trainable params: 0\n",
      "_________________________________________________________________\n"
     ]
    }
   ],
   "source": [
    "model.summary()"
   ]
  },
  {
   "cell_type": "code",
   "execution_count": 19,
   "metadata": {},
   "outputs": [
    {
     "name": "stderr",
     "output_type": "stream",
     "text": [
      "W1021 20:55:25.746096 12480 deprecation_wrapper.py:119] From C:\\Users\\gaurav\\Anaconda3\\envs\\ML-gpu\\lib\\site-packages\\keras\\optimizers.py:790: The name tf.train.Optimizer is deprecated. Please use tf.compat.v1.train.Optimizer instead.\n",
      "\n",
      "W1021 20:55:25.773056 12480 deprecation_wrapper.py:119] From C:\\Users\\gaurav\\Anaconda3\\envs\\ML-gpu\\lib\\site-packages\\keras\\backend\\tensorflow_backend.py:3295: The name tf.log is deprecated. Please use tf.math.log instead.\n",
      "\n",
      "W1021 20:55:25.867281 12480 deprecation.py:323] From C:\\Users\\gaurav\\Anaconda3\\envs\\ML-gpu\\lib\\site-packages\\tensorflow\\python\\ops\\math_grad.py:1250: add_dispatch_support.<locals>.wrapper (from tensorflow.python.ops.array_ops) is deprecated and will be removed in a future version.\n",
      "Instructions for updating:\n",
      "Use tf.where in 2.0, which has the same broadcast rule as np.where\n"
     ]
    },
    {
     "name": "stdout",
     "output_type": "stream",
     "text": [
      "Train on 18463 samples, validate on 9095 samples\n",
      "Epoch 1/20\n",
      "18463/18463 [==============================] - 8s 427us/step - loss: 0.6777 - acc: 0.5710 - val_loss: 0.6371 - val_acc: 0.6290\n",
      "Epoch 2/20\n",
      "18463/18463 [==============================] - 4s 197us/step - loss: 0.4117 - acc: 0.8008 - val_loss: 0.1804 - val_acc: 0.9311\n",
      "Epoch 3/20\n",
      "18463/18463 [==============================] - 4s 197us/step - loss: 0.1681 - acc: 0.9395 - val_loss: 0.1447 - val_acc: 0.9478\n",
      "Epoch 4/20\n",
      "18463/18463 [==============================] - 4s 197us/step - loss: 0.1478 - acc: 0.9480 - val_loss: 0.1422 - val_acc: 0.9479\n",
      "Epoch 5/20\n",
      "18463/18463 [==============================] - 4s 197us/step - loss: 0.1334 - acc: 0.9524 - val_loss: 0.1395 - val_acc: 0.9522\n",
      "Epoch 6/20\n",
      "18463/18463 [==============================] - 4s 197us/step - loss: 0.1219 - acc: 0.9556 - val_loss: 0.1368 - val_acc: 0.9509\n",
      "Epoch 7/20\n",
      "18463/18463 [==============================] - 4s 197us/step - loss: 0.1148 - acc: 0.9595 - val_loss: 0.1424 - val_acc: 0.9513\n",
      "Epoch 8/20\n",
      "18463/18463 [==============================] - 4s 198us/step - loss: 0.1054 - acc: 0.9621 - val_loss: 0.1486 - val_acc: 0.9499\n",
      "Epoch 9/20\n",
      "18463/18463 [==============================] - 4s 197us/step - loss: 0.0945 - acc: 0.9665 - val_loss: 0.1570 - val_acc: 0.9488\n",
      "Epoch 10/20\n",
      "18463/18463 [==============================] - 4s 197us/step - loss: 0.0871 - acc: 0.9686 - val_loss: 0.1652 - val_acc: 0.9479\n",
      "Epoch 11/20\n",
      "18463/18463 [==============================] - 4s 197us/step - loss: 0.0754 - acc: 0.9741 - val_loss: 0.1578 - val_acc: 0.9540\n",
      "Epoch 12/20\n",
      "18463/18463 [==============================] - 4s 197us/step - loss: 0.0689 - acc: 0.9760 - val_loss: 0.1812 - val_acc: 0.9510\n",
      "Epoch 13/20\n",
      "18463/18463 [==============================] - 4s 197us/step - loss: 0.0585 - acc: 0.9798 - val_loss: 0.1758 - val_acc: 0.9526\n",
      "Epoch 14/20\n",
      "18463/18463 [==============================] - 4s 197us/step - loss: 0.0515 - acc: 0.9826 - val_loss: 0.2068 - val_acc: 0.9522\n",
      "Epoch 15/20\n",
      "18463/18463 [==============================] - 4s 197us/step - loss: 0.0519 - acc: 0.9815 - val_loss: 0.1862 - val_acc: 0.9512\n",
      "Epoch 16/20\n",
      "18463/18463 [==============================] - 4s 197us/step - loss: 0.0438 - acc: 0.9858 - val_loss: 0.2282 - val_acc: 0.9545\n",
      "Epoch 17/20\n",
      "18463/18463 [==============================] - 4s 197us/step - loss: 0.0350 - acc: 0.9880 - val_loss: 0.2385 - val_acc: 0.9454\n",
      "Epoch 18/20\n",
      "18463/18463 [==============================] - 4s 197us/step - loss: 0.0374 - acc: 0.9875 - val_loss: 0.2437 - val_acc: 0.9483\n",
      "Epoch 19/20\n",
      "18463/18463 [==============================] - 4s 198us/step - loss: 0.0278 - acc: 0.9914 - val_loss: 0.2594 - val_acc: 0.9521\n",
      "Epoch 20/20\n",
      "18463/18463 [==============================] - 4s 197us/step - loss: 0.0317 - acc: 0.9903 - val_loss: 0.2394 - val_acc: 0.9518\n"
     ]
    },
    {
     "data": {
      "text/plain": [
       "<keras.callbacks.History at 0x294b99a1cc8>"
      ]
     },
     "execution_count": 19,
     "metadata": {},
     "output_type": "execute_result"
    }
   ],
   "source": [
    "model.compile(loss='categorical_crossentropy',optimizer='adam',metrics=['accuracy'])\n",
    "model.fit(X_train, y_train,batch_size=128,epochs=20,verbose=1,validation_data=(X_test, y_test))"
   ]
  },
  {
   "cell_type": "markdown",
   "metadata": {},
   "source": [
    "# Generating Results"
   ]
  },
  {
   "cell_type": "code",
   "execution_count": 20,
   "metadata": {},
   "outputs": [],
   "source": [
    "predicted = model.predict_classes(X_test)"
   ]
  },
  {
   "cell_type": "code",
   "execution_count": 21,
   "metadata": {},
   "outputs": [],
   "source": [
    "y_test_n = np.argmax(y_test,axis=1)"
   ]
  },
  {
   "cell_type": "code",
   "execution_count": 22,
   "metadata": {},
   "outputs": [
    {
     "name": "stdout",
     "output_type": "stream",
     "text": [
      "              precision    recall  f1-score   support\n",
      "\n",
      "           0       0.95      0.96      0.95      4482\n",
      "           1       0.96      0.95      0.95      4613\n",
      "\n",
      "    accuracy                           0.95      9095\n",
      "   macro avg       0.95      0.95      0.95      9095\n",
      "weighted avg       0.95      0.95      0.95      9095\n",
      "\n"
     ]
    }
   ],
   "source": [
    "print(classification_report(predicted, y_test_n))"
   ]
  },
  {
   "cell_type": "code",
   "execution_count": 23,
   "metadata": {},
   "outputs": [],
   "source": [
    "model.save('model.h5')"
   ]
  }
 ],
 "metadata": {
  "kernelspec": {
   "display_name": "Python 3",
   "language": "python",
   "name": "python3"
  },
  "language_info": {
   "codemirror_mode": {
    "name": "ipython",
    "version": 3
   },
   "file_extension": ".py",
   "mimetype": "text/x-python",
   "name": "python",
   "nbconvert_exporter": "python",
   "pygments_lexer": "ipython3",
   "version": "3.7.4"
  }
 },
 "nbformat": 4,
 "nbformat_minor": 4
}
